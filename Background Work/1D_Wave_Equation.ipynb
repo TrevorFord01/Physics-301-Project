{
  "nbformat": 4,
  "nbformat_minor": 0,
  "metadata": {
    "colab": {
      "name": "1D Wave Equation",
      "provenance": [],
      "collapsed_sections": []
    },
    "kernelspec": {
      "name": "python3",
      "display_name": "Python 3"
    },
    "widgets": {
      "application/vnd.jupyter.widget-state+json": {
        "1c3e6c43bd0e42a9813521546dce3db7": {
          "model_module": "@jupyter-widgets/controls",
          "model_name": "VideoModel",
          "state": {
            "_view_name": "VideoView",
            "_dom_classes": [],
            "_model_name": "VideoModel",
            "format": "mp4",
            "_view_module": "@jupyter-widgets/controls",
            "_model_module_version": "1.5.0",
            "controls": true,
            "_view_count": null,
            "width": "",
            "_view_module_version": "1.5.0",
            "layout": "IPY_MODEL_e1af93f564064df4ade6b79f0ebad1c4",
            "height": "",
            "_model_module": "@jupyter-widgets/controls",
            "loop": false,
            "autoplay": true
          }
        },
        "e1af93f564064df4ade6b79f0ebad1c4": {
          "model_module": "@jupyter-widgets/base",
          "model_name": "LayoutModel",
          "state": {
            "_view_name": "LayoutView",
            "grid_template_rows": null,
            "right": null,
            "justify_content": null,
            "_view_module": "@jupyter-widgets/base",
            "overflow": null,
            "_model_module_version": "1.2.0",
            "_view_count": null,
            "flex_flow": null,
            "width": null,
            "min_width": null,
            "border": null,
            "align_items": null,
            "bottom": null,
            "_model_module": "@jupyter-widgets/base",
            "top": null,
            "grid_column": null,
            "overflow_y": null,
            "overflow_x": null,
            "grid_auto_flow": null,
            "grid_area": null,
            "grid_template_columns": null,
            "flex": null,
            "_model_name": "LayoutModel",
            "justify_items": null,
            "grid_row": null,
            "max_height": null,
            "align_content": null,
            "visibility": null,
            "align_self": null,
            "height": null,
            "min_height": null,
            "padding": null,
            "grid_auto_rows": null,
            "grid_gap": null,
            "max_width": null,
            "order": null,
            "_view_module_version": "1.2.0",
            "grid_template_areas": null,
            "object_position": null,
            "object_fit": null,
            "grid_auto_columns": null,
            "margin": null,
            "display": null,
            "left": null
          }
        }
      }
    }
  },
  "cells": [
    {
      "cell_type": "markdown",
      "metadata": {
        "id": "uBQCs6EQbmeb"
      },
      "source": [
        "<h1><center>1D Wave Equation</center></h1>\n",
        "\n",
        "Note: GitHub shows a limited view of this notebook; view the full notebook externally with nbviewer.\n",
        "\n",
        "The wave equation is a **partial differential equation** (PDE). Solutions to the\n",
        "wave equation are functions of time and position. If a function $u(x,t)$ is a\n",
        "solution to the 1D wave equation, then it satisfies:\n",
        "\n",
        "$$\\frac{\\partial^2 u}{\\partial t^2}=c^2\\frac{\\partial^2 u}{\\partial x^2}$$\n",
        "\n",
        "$c$ is the **speed** at which a feature of the solution, say a **crest** or **trough**, moves in the **spatial domain**. The spatial domain is essentially the collection of all spatial points over which we want the function $u$ to satisfy the PDE. The **time domain** is the collection of all times at which we want the function $u$ to satisfy the PDE. Often, spatial and time domains are inferred by the description of a problem."
      ]
    },
    {
      "cell_type": "markdown",
      "metadata": {
        "id": "IgF6AkxdgtPn"
      },
      "source": [
        "Specific graphical solutions to the 1D wave equation, namely those of lone **wave pulses** moving in a specified direction, tend to behave as expected - they maintain their shape as they propagate. For a wave pulse given at time $t=0$ by $u(x,0)=f(x)$, the time evolution is dependent of the direction of motion. For a wave moving to the left:\n",
        "$$u(x,t)=f(x+ct)$$\n",
        "For a wave moving to the right:\n",
        "$$u(x,t)=f(x-ct)$$\n",
        "\n",
        "This kind of wave motion on a string can be easily visualized in Python using both time cross-sections and animations:"
      ]
    },
    {
      "cell_type": "code",
      "metadata": {
        "id": "xhQO-W_tgnR5"
      },
      "source": [
        "import numpy as np\n",
        "import matplotlib.animation as ani\n",
        "import matplotlib.pyplot as plt\n",
        "from ipywidgets import Video"
      ],
      "execution_count": 1,
      "outputs": []
    },
    {
      "cell_type": "code",
      "metadata": {
        "id": "wmVXa0-DhEUh",
        "outputId": "992761d6-2b01-4630-c80b-4ccf3984d2c1",
        "colab": {
          "base_uri": "https://localhost:8080/",
          "height": 305
        }
      },
      "source": [
        "#Demonstration with a triangle wave moving to the right\n",
        "#time \"traces\" show a wave's shape and position at a fixed time\n",
        "\n",
        "fig,ax=plt.subplots(4,1,sharex=True)\n",
        "x=np.linspace(0,20,1000)\n",
        "for i in range(0,4):\n",
        "  y0=np.zeros((100+100*i,))\n",
        "  y1=np.linspace(0,1,100)\n",
        "  y2=np.linspace(1,0,100)\n",
        "  y3=np.zeros((700-100*i,))\n",
        "  y=np.concatenate((y0,y1,y2,y3))\n",
        "  ax[i].plot(x,y)\n",
        "  ax[i].set_ylim(-0.1,1.1)\n",
        "  ax[i].set_xlim(0,20)\n",
        "ax[3].set_xlabel(\"Position\",size=12)\n",
        "fig.text(0.04,0.5,\"Height\",size=12,va='center',rotation='vertical')\n",
        "fig.suptitle(\"Wave Cross-Sections\",size=16,y=0.96)\n",
        "fig.text(0.92,0.785,\"$t=0$\",size=14)\n",
        "fig.text(0.92,0.59,\"$t=2/c$\",size=14)\n",
        "fig.text(0.92,0.39,\"$t=4/c$\",size=14)\n",
        "fig.text(0.92,0.2,\"$t=6/c$\",size=14);"
      ],
      "execution_count": 2,
      "outputs": [
        {
          "output_type": "display_data",
          "data": {
            "image/png": "[encoded data removed]",
            "text/plain": [
              "<Figure size 432x288 with 4 Axes>"
            ]
          },
          "metadata": {
            "tags": [],
            "needs_background": "light"
          }
        }
      ]
    },
    {
      "cell_type": "code",
      "metadata": {
        "id": "Y7_Tfj9QtQaJ"
      },
      "source": [
        "#an animation of the same demonstration is even more elucidating\n",
        "\n",
        "%%capture\n",
        "x=np.linspace(0,20,1000)\n",
        "y0=np.zeros((100,))\n",
        "y1=np.linspace(0,1,100)\n",
        "y2=np.linspace(1,0,100)\n",
        "y3=np.zeros((700,))\n",
        "y=np.concatenate((y0,y1,y2,y3))\n",
        "c=1\n",
        "\n",
        "fig,ax=plt.subplots(figsize=(6,2))\n",
        "fig.suptitle(\"Triangular Wave Pulse\",y=1)\n",
        "fig.tight_layout(pad=2)\n",
        "ln1,=plt.plot(x,y)\n",
        "\n",
        "def init():\n",
        "  ax.set_xlim(0,20)\n",
        "  ax.set_ylim(-0.1,1.1,auto=True)\n",
        "  ax.set_ylabel(\"Height\",size=12)\n",
        "  ax.set_xlabel(\"Position\",size=12)\n",
        "  return ln1,\n",
        "\n",
        "def update(frame):\n",
        "  y0=np.zeros((100+frame,))\n",
        "  y1=np.linspace(0,1,100)\n",
        "  y2=np.linspace(1,0,100)\n",
        "  y3=np.zeros((700-frame,))\n",
        "  y_data=np.concatenate((y0,y1,y2,y3))\n",
        "  ln1.set_data(x, y_data)\n",
        "  return ln1,\n",
        "\n",
        "ani1 = ani.FuncAnimation(fig, update, frames=range(0,400),\n",
        "                    init_func=init, repeat=False, interval=20/c)\n",
        "\n",
        "ani1.save('wave_pulse.mp4')"
      ],
      "execution_count": 3,
      "outputs": []
    },
    {
      "cell_type": "code",
      "metadata": {
        "id": "BtVlI0RA8cc_",
        "outputId": "65874f6e-0998-48d6-aeda-676a89f0ed38",
        "colab": {
          "base_uri": "https://localhost:8080/",
          "height": 169,
          "referenced_widgets": [
            "1c3e6c43bd0e42a9813521546dce3db7",
            "e1af93f564064df4ade6b79f0ebad1c4"
          ]
        }
      },
      "source": [
        "#play the animation created in the above cell\n",
        "Video.from_file(\"wave_pulse.mp4\",loop=False)"
      ],
      "execution_count": 4,
      "outputs": [
        {
          "output_type": "display_data",
          "data": {
            "application/vnd.jupyter.widget-view+json": {
              "model_id": "1c3e6c43bd0e42a9813521546dce3db7",
              "version_minor": 0,
              "version_major": 2
            },
            "text/plain": [
              "Video(value=b'\\x00\\x00\\x00 ftypisom\\x00\\x00\\x02\\x00isomiso2avc1mp41\\x00\\x00\\x00\\x08free\\x00\\x00\\x80\\x95mdat\\x0…"
            ]
          },
          "metadata": {
            "tags": []
          }
        }
      ]
    },
    {
      "cell_type": "markdown",
      "metadata": {
        "id": "AQzlrElSFtgd"
      },
      "source": [
        "These two forms of a solution for a left- or right-moving wave can be verified by direct substitution if we just remember that $f(x+ct)$ and $f(x-ct)$ are separate cases:\n",
        "\n",
        "$$\\frac{\\partial^2 f(x \\pm ct)}{\\partial t^2}=c^2\\frac{\\partial^2 f(x \\pm ct)}{\\partial x^2}$$\n",
        "\n",
        "$$\\frac{\\partial}{\\partial t}\\left(\\frac{\\partial f(x \\pm ct)}{\\partial t}\\right)=c^2\\frac{\\partial}{\\partial x}\\left(\\frac{\\partial f(x \\pm ct)}{\\partial x}\\right)$$\n",
        "\n",
        "$$\\frac{\\partial}{\\partial t}\\left(\\frac{\\partial f(x \\pm ct)}{\\partial (x \\pm ct)}\\frac{\\partial(x \\pm ct)}{\\partial t}\\right)=c^2\\frac{\\partial}{\\partial x}\\left(\\frac{\\partial f(x \\pm ct)}{\\partial (x \\pm ct)}\\frac{\\partial(x \\pm ct)}{\\partial x}\\right)$$\n",
        "\n",
        "$$\\frac{\\partial}{\\partial t}\\left(\\pm c\\frac{\\partial f(x \\pm ct)}{\\partial (x \\pm ct)}\\right)=c^2\\frac{\\partial}{\\partial x}\\left(\\frac{\\partial f(x \\pm ct)}{\\partial (x \\pm ct)}\\right)$$\n",
        "\n",
        "$$\\frac{\\partial}{\\partial (x \\pm ct)}\\left(\\pm c\\frac{\\partial f(x \\pm ct)}{\\partial t}\\right)=c^2\\frac{\\partial}{\\partial (x \\pm ct)}\\left(\\frac{\\partial f(x \\pm ct)}{\\partial x}\\right)$$\n",
        "\n",
        "$$\\frac{\\partial}{\\partial (x \\pm ct)}\\left(\\pm c\\frac{\\partial f(x \\pm ct)}{\\partial (x \\pm ct)}\\frac{\\partial(x \\pm ct)}{\\partial t}\\right)=c^2\\frac{\\partial}{\\partial (x \\pm ct)}\\left(\\frac{\\partial f(x \\pm ct)}{\\partial (x \\pm ct)}\\frac{\\partial(x \\pm ct)}{\\partial x}\\right)$$\n",
        "\n",
        "$$\\frac{\\partial}{\\partial (x \\pm ct)}\\left(c^2\\frac{\\partial f(x \\pm ct)}{\\partial (x \\pm ct)}\\right)=c^2\\frac{\\partial}{\\partial (x \\pm ct)}\\left(\\frac{\\partial f(x \\pm ct)}{\\partial (x \\pm ct)}\\right)$$\n",
        "\n",
        "$$c^2\\frac{\\partial^2 f(x \\pm ct)}{\\partial (x \\pm ct)^2}=c^2\\frac{\\partial^2 f(x \\pm ct)}{\\partial (x \\pm ct)^2}$$\n",
        "\n",
        "Since the equality is satified for both choices of $x+ct$ or $x-ct$, $f(x+ct)$ and $f(x-ct)$ are solutions to the 1D wave equation.\n",
        "\n"
      ]
    },
    {
      "cell_type": "markdown",
      "metadata": {
        "id": "x_NjWWR8My1U"
      },
      "source": [
        "The 1D wave equation we have here is a **linear homogeneous** PDE, which means that if we can apply the **principle of superposition**: the sum of two solutions to a linear homogeneous PDE is also a solution to that linear homogeneous PDE. This means that not only are $f(x+ct)$ and $f(x-ct)$ both solutions to the wave equation, but $af(x+ct)+bf(x-ct)$, where $a,b\\in\\mathbb{R}$, is also a solution."
      ]
    }
  ]
}