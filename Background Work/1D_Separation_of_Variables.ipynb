{
  "nbformat": 4,
  "nbformat_minor": 0,
  "metadata": {
    "colab": {
      "name": "1D_Separation_of_Variables.ipynb",
      "provenance": []
    },
    "kernelspec": {
      "name": "python3",
      "display_name": "Python 3"
    },
    "widgets": {
      "application/vnd.jupyter.widget-state+json": {
        "e0749730fbfa44eda2547b072e9d21b0": {
          "model_module": "@jupyter-widgets/controls",
          "model_name": "VideoModel",
          "state": {
            "_view_name": "VideoView",
            "_dom_classes": [],
            "_model_name": "VideoModel",
            "format": "mp4",
            "_view_module": "@jupyter-widgets/controls",
            "_model_module_version": "1.5.0",
            "controls": true,
            "_view_count": null,
            "width": "",
            "_view_module_version": "1.5.0",
            "layout": "IPY_MODEL_75b09d53c1e040978e12f2abf43b52c8",
            "height": "",
            "_model_module": "@jupyter-widgets/controls",
            "loop": false,
            "autoplay": true
          }
        },
        "75b09d53c1e040978e12f2abf43b52c8": {
          "model_module": "@jupyter-widgets/base",
          "model_name": "LayoutModel",
          "state": {
            "_view_name": "LayoutView",
            "grid_template_rows": null,
            "right": null,
            "justify_content": null,
            "_view_module": "@jupyter-widgets/base",
            "overflow": null,
            "_model_module_version": "1.2.0",
            "_view_count": null,
            "flex_flow": null,
            "width": null,
            "min_width": null,
            "border": null,
            "align_items": null,
            "bottom": null,
            "_model_module": "@jupyter-widgets/base",
            "top": null,
            "grid_column": null,
            "overflow_y": null,
            "overflow_x": null,
            "grid_auto_flow": null,
            "grid_area": null,
            "grid_template_columns": null,
            "flex": null,
            "_model_name": "LayoutModel",
            "justify_items": null,
            "grid_row": null,
            "max_height": null,
            "align_content": null,
            "visibility": null,
            "align_self": null,
            "height": null,
            "min_height": null,
            "padding": null,
            "grid_auto_rows": null,
            "grid_gap": null,
            "max_width": null,
            "order": null,
            "_view_module_version": "1.2.0",
            "grid_template_areas": null,
            "object_position": null,
            "object_fit": null,
            "grid_auto_columns": null,
            "margin": null,
            "display": null,
            "left": null
          }
        }
      }
    }
  },
  "cells": [
    {
      "cell_type": "markdown",
      "metadata": {
        "id": "R0_dR510mzhB"
      },
      "source": [
        "<h1><center>Separation of Variables</center></h1>\n",
        "<h3><center>1D Wave Equation</center></h3>"
      ]
    },
    {
      "cell_type": "markdown",
      "metadata": {
        "id": "9SkQZC9ZnWRG"
      },
      "source": [
        "Note: GitHub shows a limited view of this notebook; view the full notebook externally with nbviewer.\n",
        "\n",
        "**Separation of variables** is a common technique that is employed to find solutions of linear homogeneous partial differential equations with homogeneous boundary conditions. The methodology hinges upon being able to decompose (a.k.a. separate) the PDE and its corresponding boundary conditions into a number of ODEs with additional constraints. This method can be employed to solve the wave equation; we start with the 1D case of a string of length $L$ whose endpoints are fixed (i.e. homogeneous Dirichlet conditions):\n",
        "\n",
        "$$\\frac{\\partial^2 u}{\\partial t^2}=c^2\\frac{\\partial^2 u}{\\partial x^2}$$\n",
        "\n",
        "$$u(0,t)=0$$\n",
        "$$u(L,t)=0$$\n",
        "\n",
        "We first assume that the solution to the PDE satisfies a **product form**, $u(x,t)=X(x)T(t)$. Making this substitution yields:\n",
        "\n",
        "$$\\frac{\\partial^2 X(x)T(t)}{\\partial t^2}=c^2\\frac{\\partial^2 X(x)T(t)}{\\partial x^2}$$\n",
        "\n",
        "$$X(0)T(t)=0$$\n",
        "$$X(L)T(t)=0$$\n",
        "\n",
        "The first simplification that we make is to notice that the partial derivatives of the PDE become ordinary derivatives when applied to their respective function:\n",
        "\n",
        "$$X(x)\\frac{d^2 T(t)}{dt^2}=c^2T(t)\\frac{d^2 X(x)}{dx^2}$$\n",
        "\n",
        "We then divide both sides by $\\frac{X(x)T(t)}{c^2}$ to get each independent variable on its own side of the equation. It is only necessary to divide by $X(x)T(t)$, but dividing by the factor $c^2$ helps to solve the problem a bit easier. The resulting equation is:\n",
        "\n",
        "$$\\frac{1}{c^2T(t)}\\frac{d^2 T(t)}{dt^2}=\\frac{1}{X(x)}\\frac{d^2 X(x)}{dx^2}$$\n",
        "\n",
        "Now, since $x$ and $t$ are independent variables, changing the value of $x$ would not be expected to necessarily result in the change of the value of $t$, and vice versa. By this logic, changing $x$ does not change the value on the right hand side of the above equation because the left hand side would require a change of $t$; likewise, changing $t$ would not change either side of the equation either. This means that both sides of this equation must be equal to the same constant, which will call the **separation constant**, $-\\lambda$. The introduction of a negative sign is simply for mathematical convenience - the solution will work out the same way without it. This equality leads to two ODEs, one in the x-dimension and one in the t-dimension:\n",
        "\n",
        "$$\\frac{d^2 T(t)}{dt^2}=-\\lambda c^2T(t)$$\n",
        "\n",
        "$$\\frac{d^2 X(x)}{dx^2}=-\\lambda X(x)$$\n",
        "\n",
        "Now that the PDE has been transformed, we focus on the boundary conditions. We first note that the **trivial solution**, $u(x,t)=0$, is uninteresting because it satisfied every linear homogeneous PDE with homogeneous boundary conditions and so we are only interested in nontrivial solutions. From before, our boundary conditions are of the form:\n",
        "\n",
        "$$X(0)T(t)=0$$\n",
        "$$X(L)T(t)=0$$\n",
        "\n",
        "For the first condition, either $X(0)=0$ or $T(t)=0$. If $T(t)=0$ however, then we must necessarily have the trivial solution because $u(x,t)=X(x)T(t)=X(x)\\cdot 0=0$. Therefore $T(t)\\neq 0$ and $X(0)=0$. By similar logic we must also have $X(L)=0$. Our transformed boundary conditions are:\n",
        "\n",
        "$$X(0)=0$$\n",
        "$$X(L)=0$$\n",
        "\n",
        "These conditions constrain solutions in the $x$ spatial dimension, so we start by solving the ODE in $x$. This ODE has three different solutions, depending on the value of $\\lambda$. If $\\lambda > 0$ then:\n",
        "\n",
        "$$X(x)=A\\cos(\\sqrt\\lambda x)+B\\sin(\\sqrt\\lambda x)$$\n",
        "\n",
        "If $\\lambda = 0$ then:\n",
        "\n",
        "$$X(x)=A x+B$$\n",
        "\n",
        "And if $\\lambda < 0$ then:\n",
        "\n",
        "$$X(x)=\\begin{equation}\n",
        "Ae^{\\sqrt{-\\lambda} x}+Be^{-\\sqrt{-\\lambda} x}\n",
        "\\end{equation}$$\n",
        "\n",
        "To proceed, we apply the boundary conditions to each solution form to see which can satisfy the problem with a nontrivial solution. Starting with $\\lambda > 0$:\n",
        "\n",
        "$$X(0)=0=A\\cos(0)+B\\sin(0)=A$$\n",
        "\n",
        "$$X(L)=0=A\\cos(\\sqrt\\lambda L)+B\\sin(\\sqrt\\lambda L)$$\n",
        "\n",
        "Letting $A=0$ in the second equation, we get the condition that $B\\sin(\\sqrt\\lambda L)=0$. This means that either $B=0$ or $\\sin(\\sqrt\\lambda L)=0$. If $B=0$ then we have the trivial solution, thus the only way we can have nontrivial solutions of this form is if $\\sin(\\sqrt\\lambda L)=0$, which means:\n",
        "\n",
        "$$\\sqrt\\lambda L=n\\pi$$\n",
        "\n",
        "where $n\\in\\mathbb{N}$. The values $n\\le0$ are excluded because it is known that $\\lambda >0$ and was assumed that $L>0$. Each $\\lambda$ that satisfies this condition is known as an **eigenvalue** of the problem. Solving for $\\lambda$ gives the form of all positive eigenvalues:\n",
        "\n",
        "$$\\lambda = \\frac{n^2\\pi^2}{L^2}$$\n",
        "\n",
        "The **eigenfunctions**, the set of nontrivial functions that satisfy the boundary values, corresponding to these positive eigenvalues are:\n",
        "\n",
        "$$X(x)=B\\sin(\\sqrt\\lambda x)=B\\sin\\left(\\frac{n\\pi x}{L}\\right)$$\n",
        "\n",
        "There is no constraint on the value of $B$, therefore it remains in the eigenfunction expression to represent any possible choice of coefficient. We move on to the case of $\\lambda =0$:\n",
        "\n",
        "$$X(0)=0=A(0)+B=B$$\n",
        "\n",
        "$$X(L)=0=A(L)+B$$\n",
        "\n",
        "Letting $B=0$ in the second equation gives $AL=0$. Since $L>0$ by assumption, the only way this condition can be satisfied is if $A=0$. However letting $A=0$ would yield the trivial solution, thus there are no nontrivial solutions for which $\\lambda =0$, thus zero is not an eigenvalue of the problem and there are no corresponding eigenfunctions. Finally, we investigate $\\lambda <0$:\n",
        "\n",
        "$$X(0)=0=\\begin{equation}\n",
        "Ae^{\\sqrt{-\\lambda} (0)}+Be^{-\\sqrt{-\\lambda} (0)}\n",
        "\\end{equation} = A+B$$\n",
        "\n",
        "$$X(L)=0=\\begin{equation}\n",
        "Ae^{\\sqrt{-\\lambda} (L)}+Be^{-\\sqrt{-\\lambda} (L)}\n",
        "\\end{equation}$$\n",
        "\n",
        "It will prove efficient to define a constant $r=e^{\\sqrt{-\\lambda}L}$ so that the second equation can be written as:\n",
        "\n",
        "$$Ar+\\frac{B}{r}=0$$\n",
        "\n",
        "By the first equation, we must have $B=-A$, so we substitute this into the second equation to give:\n",
        "\n",
        "$$Ar-\\frac{A}{r}=0$$\n",
        "\n",
        "After rearranging, this condition becomes:\n",
        "\n",
        "$$A(r^2-1)=0$$\n",
        "\n",
        "This means that either $A=0$ or $r^2-1=0$. However, if $A=0$ then $B=-A=0$, which is the trivial solution. Thus if nontrivial solutions exist, they must have $r^2-1=0$. If we substitute the definition of $r$ into this equation and rearrange, we see:\n",
        "\n",
        "$$e^{2\\sqrt{-\\lambda}L}=1$$\n",
        "\n",
        "The only way for the exponential function to output a value of one is if its argument is zero (excluding certain imaginary arguments that are not considered because the argument of this exponential is clearly in the real space). That is to say, if a nontrivial solution is to exist, then:\n",
        "\n",
        "$$2\\sqrt{-\\lambda}L=0$$\n",
        "\n",
        "However since $\\lambda <0$ and $L>0$, the left hand expression is strictly positive, thus there is no value of $\\lambda$ for which a nontrivial solution exists. Therefore, this problem has no negative eigenvalues. We then move on to the time ODE.\n",
        "\n"
      ]
    },
    {
      "cell_type": "markdown",
      "metadata": {
        "id": "9krasgRFv6s6"
      },
      "source": [
        "We now know the values of $\\lambda$ that solve the boundary value problem in $x$, thus we substitute those eigenvalues into the time ODE:\n",
        "\n",
        "$$\\frac{d^2 T(t)}{dt^2}=-\\frac{n^2\\pi^2 c^2}{L^2}T(t)$$\n",
        "\n",
        "Because $n \\in \\mathbb{N}$, this ODE has only one possible solution family:\n",
        "\n",
        "$$T(t)=C\\cos\\left(\\frac{n\\pi ct}{L}\\right) +D\\sin\\left(\\frac{n\\pi ct}{L}\\right)$$\n",
        "\n",
        "Now that we know the form of $X(x)$ and $T(t)$, we substitute them back into the product form. The solution form for the $n$th eigenvalue is:\n",
        "\n",
        "$$u_n(x,t)=X_n(x)T_n(t)=B\\sin\\left(\\frac{n\\pi x}{L}\\right)\\left(C\\cos\\left(\\frac{n\\pi ct}{L}\\right) +D\\sin\\left(\\frac{n\\pi ct}{L}\\right)\\right)$$\n",
        "\n",
        "Solutions to the wave equation that can be written in this form are known as the **vibrational modes** of the problem - essentially the basis states with which practically all other wave motion can be expressed. Since the undamped wave equation is a linear homogeneous PDE and the boundary conditions are also linear and homogeneous, we can apply the **principle of superposition**. We lump some constants and do a few more simplifications to arrive at the general separation of variables solution of the problem:\n",
        "\n",
        "$$u(x,t)=\\sum_{n=1}^{\\infty} \\left(A_n\\sin\\left(\\frac{n\\pi x}{L}\\right)\\cos\\left(\\frac{n\\pi ct}{L}\\right)+B_n\\sin\\left(\\frac{n\\pi x}{L}\\right)\\sin\\left(\\frac{n\\pi ct}{L}\\right)\\right)$$\n",
        "\n",
        "The coefficients $A_n$ and $B_n$ for a specific problem are determined by the **initial conditions** of that problem. Our next goal will be to find general forms for these constants given a set of two initial conditions.\n"
      ]
    },
    {
      "cell_type": "markdown",
      "metadata": {
        "id": "-wQklJiU1vUa"
      },
      "source": [
        "Suppose that the string with fixed ends we considered earlier has an initial height distribution $f(x)$ and an initial velocity distribution $g(x)$ at time $t=0$. These are two initial conditions that can be applied to find the values of the coefficients in the above solution. Two initial conditions are needed because the wave equation is a second order PDE with respect to time. The initial conditions expressed in terms of $u(x,t)$ are:\n",
        "\n",
        "$$u(x,0)=f(x)$$\n",
        "$$\\frac{\\partial u}{\\partial t}(x,0)=g(x)$$\n",
        "\n",
        "Using the solution $u(x,t)$ above, we must have:\n",
        "\n",
        "$$u(x,0)=\\sum_{n=1}^{\\infty} \\left(A_n\\sin\\left(\\frac{n\\pi x}{L}\\right)\\cos\\left(0\\right)+B_n\\sin\\left(\\frac{n\\pi x}{L}\\right)\\sin\\left(0\\right)\\right)=\\sum_{n=1}^{\\infty} A_n\\sin\\left(\\frac{n\\pi x}{L}\\right)$$\n",
        "\n",
        "$$\\frac{\\partial u}{\\partial t}(x,0)=\\sum_{n=1}^{\\infty} \\left(-\\frac{A_n n\\pi c}{L}\\sin\\left(\\frac{n\\pi x}{L}\\right)\\sin\\left(0\\right)+\\frac{B_n n\\pi c}{L}\\sin\\left(\\frac{n\\pi x}{L}\\right)\\cos\\left(0\\right)\\right)=\\sum_{n=1}^{\\infty} \\frac{B_n n\\pi c}{L}\\sin\\left(\\frac{n\\pi x}{L}\\right)$$\n",
        "\n",
        "Equating these to the initial conditions gives the following conditions for the coefficients $A_n$ and $B_n$:\n",
        "\n",
        "$$f(x)=\\sum_{n=1}^{\\infty} A_n\\sin\\left(\\frac{n\\pi x}{L}\\right)$$\n",
        "\n",
        "$$g(x)=\\sum_{n=1}^{\\infty} \\frac{B_n n\\pi c}{L}\\sin\\left(\\frac{n\\pi x}{L}\\right)$$\n",
        "\n",
        "Multiply both sides of both equations by $\\sin(\\frac{m\\pi x}{L})$, where $m \\in \\mathbb{N}$, so that we can make use of sine orthogonality. Integrate both sides from $0$ to $L$ with respect to $x$:\n",
        "\n",
        "$$\\int_{0}^{L} f(x)\\sin\\left(\\frac{m\\pi x}{L}\\right) \\,dx=\\int_{0}^{L} \\sum_{n=1}^{\\infty} A_n\\sin\\left(\\frac{n\\pi x}{L}\\right)\\sin\\left(\\frac{m\\pi x}{L}\\right)\\,dx$$\n",
        "\n",
        "$$\\int_{0}^{L} g(x)\\sin\\left(\\frac{m\\pi x}{L}\\right) \\,dx=\\int_{0}^{L} \\sum_{n=1}^{\\infty} \\frac{B_n n\\pi c}{L}\\sin\\left(\\frac{n\\pi x}{L}\\right)\\sin\\left(\\frac{m\\pi x}{L}\\right)\\,dx$$\n",
        "\n",
        "Specific sine functions are orthogonal over given intervals. The sine orthogonality relation that will simplify these two equations is:\n",
        "\n",
        "$$\\int_{0}^{L} \\sin\\left(\\frac{n\\pi x}{L}\\right)\\sin\\left(\\frac{m\\pi x}{L}\\right) \\,dx=\n",
        "  \\begin{cases}\n",
        "    \\frac{L}{2}, & n=m \\\\\n",
        "    0, & n\\neq m\\\\\n",
        "  \\end{cases}$$\n",
        "\n",
        "Pulling the integrals into the sums by commutation, the sums necessarily collapse to:\n",
        "\n",
        "$$\\int_{0}^{L} f(x)\\sin\\left(\\frac{m\\pi x}{L}\\right) \\,dx=\\frac{A_m L}{2}$$\n",
        "\n",
        "$$\\int_{0}^{L} g(x)\\sin\\left(\\frac{m\\pi x}{L}\\right) \\,dx=\\frac{B_m m\\pi c}{2}$$\n",
        "\n",
        "Solving for the coefficients and changing the index $m$ to index $n$ gives the $n$th coefficients in the solution as:\n",
        "\n",
        "$$A_n=\\frac{2}{L} \\int_{0}^{L} f(x)\\sin\\left(\\frac{n\\pi x}{L}\\right) \\,dx$$\n",
        "\n",
        "$$B_n=\\frac{2}{n\\pi c} \\int_{0}^{L} g(x)\\sin\\left(\\frac{n\\pi x}{L}\\right) \\,dx$$"
      ]
    },
    {
      "cell_type": "markdown",
      "metadata": {
        "id": "LDUfVaaXCIdn"
      },
      "source": [
        "Using this explicit form of solution for the wave propagation problem, we can now graphically investigate the time-evolution of waves. The following demonstration will generate a video of a wave evolving in time given specific initial conditions. For our purposes, we choose a parabolic wave that takes on height $0$ at both endpoints. However, please feel free to change the initial conditions to investigate other waves."
      ]
    },
    {
      "cell_type": "code",
      "metadata": {
        "id": "dNkK6VjEEq5t"
      },
      "source": [
        "import numpy as np\n",
        "import matplotlib.pyplot as plt\n",
        "import matplotlib.animation as ani\n",
        "import scipy.integrate \n",
        "from ipywidgets import Video"
      ],
      "execution_count": 1,
      "outputs": []
    },
    {
      "cell_type": "code",
      "metadata": {
        "id": "I2X3nxXhwTeo"
      },
      "source": [
        "#generates animation of one period of wave motion on string given initial\n",
        "#conditions this cell takes a decent amount of time to run - animations \n",
        "#take a lot of work; please be patient\n",
        "%%capture\n",
        "\n",
        "def f(x):\n",
        "  \"\"\"initial height distribution of the string\"\"\"\n",
        "  return -x*(x-L)\n",
        "\n",
        "def fi(x):\n",
        "  \"\"\"integrand for Fourier coefficients A_n\"\"\"\n",
        "  return f(x)*np.sin(n*np.pi*x/L)*2/L\n",
        "\n",
        "def g(x):\n",
        "  \"\"\"initial velocity distribution of string\"\"\"\n",
        "  return 0\n",
        "\n",
        "def gi(x):\n",
        "  \"\"\"integrand for Fourier coefficients B_n\"\"\"\n",
        "  return g(x)*np.sin(n*np.pi*x/L)*2/(n*np.pi*c)\n",
        "\n",
        "L=5                        #length of string\n",
        "m=150                      #number of terms in the series for approximation\n",
        "c=0.5                      #wave speed\n",
        "tot_frames=int(200*L/c)    #only one period for animation\n",
        "\n",
        "A_coeff=[]\n",
        "B_coeff=[]\n",
        "for n in range(1,m+1):\n",
        "  A_coeff.append(scipy.integrate.quad(fi,0,L)[0])\n",
        "  B_coeff.append(scipy.integrate.quad(gi,0,L)[0])\n",
        "\n",
        "xs=np.linspace(0,L,100*L)\n",
        "ys=[np.sum([A_coeff[n]*np.sin((n+1)*np.pi*xs/L)*np.cos((n+1)*np.pi*c*t/(100*L))+\n",
        "            B_coeff[n]*np.sin((n+1)*np.pi*xs/L)*np.sin((n+1)*np.pi*c*t/(100*L)) \n",
        "            for n in range(0,m)],axis=0) for t in range(0,tot_frames)]\n",
        "\n",
        "fig,ax=plt.subplots(figsize=(6,6))\n",
        "fig.suptitle(\"Bound Parabolic Wave\",y=0.975)\n",
        "fig.tight_layout(pad=2)\n",
        "ln1,=plt.plot(xs,ys[0])\n",
        "\n",
        "def init():\n",
        "  ax.set_xlim(0,L)\n",
        "  ax.set_ylim(-L**2/4-0.5,L**2/4+0.5,auto=True)\n",
        "  ax.set_ylabel(\"Height\",size=12)\n",
        "  ax.set_xlabel(\"Position\",size=12)\n",
        "  return ln1,\n",
        "\n",
        "def update(frame):\n",
        "  ln1.set_data(xs, ys[frame])\n",
        "  return ln1,\n",
        "\n",
        "ani1 = ani.FuncAnimation(fig, update, frames=range(0,tot_frames),\n",
        "                    init_func=init, repeat=False, interval=3)\n",
        "\n",
        "ani1.save('parabolic_wave_sv.mp4')"
      ],
      "execution_count": 2,
      "outputs": []
    },
    {
      "cell_type": "code",
      "metadata": {
        "colab": {
          "base_uri": "https://localhost:8080/",
          "height": 457,
          "referenced_widgets": [
            "e0749730fbfa44eda2547b072e9d21b0",
            "75b09d53c1e040978e12f2abf43b52c8"
          ]
        },
        "id": "iccZMCGwLavm",
        "outputId": "166d36bd-ac5f-43a6-b294-d828455a221e"
      },
      "source": [
        "#play the video generated in the previous cell\n",
        "Video.from_file(\"parabolic_wave_sv.mp4\",loop=False)"
      ],
      "execution_count": 3,
      "outputs": [
        {
          "output_type": "display_data",
          "data": {
            "application/vnd.jupyter.widget-view+json": {
              "model_id": "e0749730fbfa44eda2547b072e9d21b0",
              "version_minor": 0,
              "version_major": 2
            },
            "text/plain": [
              "Video(value=b'\\x00\\x00\\x00 ftypisom\\x00\\x00\\x02\\x00isomiso2avc1mp41\\x00\\x00\\x00\\x08free\\x00\\x03|\\x9fmdat\\x00\\x…"
            ]
          },
          "metadata": {
            "tags": []
          }
        }
      ]
    }
  ]
}