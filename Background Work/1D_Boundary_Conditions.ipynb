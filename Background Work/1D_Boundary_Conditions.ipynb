{
  "nbformat": 4,
  "nbformat_minor": 0,
  "metadata": {
    "colab": {
      "name": "1D_Boundary_Conditions",
      "provenance": [],
      "collapsed_sections": []
    },
    "kernelspec": {
      "name": "python3",
      "display_name": "Python 3"
    },
    "widgets": {
      "application/vnd.jupyter.widget-state+json": {
        "ce7e93f1f9bc4069bf89643ef4654b88": {
          "model_module": "@jupyter-widgets/controls",
          "model_name": "VideoModel",
          "state": {
            "_view_name": "VideoView",
            "_dom_classes": [],
            "_model_name": "VideoModel",
            "format": "mp4",
            "_view_module": "@jupyter-widgets/controls",
            "_model_module_version": "1.5.0",
            "controls": true,
            "_view_count": null,
            "width": "",
            "_view_module_version": "1.5.0",
            "layout": "IPY_MODEL_4e43b5ac922d454eafdf0cddb88bf463",
            "height": "",
            "_model_module": "@jupyter-widgets/controls",
            "loop": false,
            "autoplay": true
          }
        },
        "4e43b5ac922d454eafdf0cddb88bf463": {
          "model_module": "@jupyter-widgets/base",
          "model_name": "LayoutModel",
          "state": {
            "_view_name": "LayoutView",
            "grid_template_rows": null,
            "right": null,
            "justify_content": null,
            "_view_module": "@jupyter-widgets/base",
            "overflow": null,
            "_model_module_version": "1.2.0",
            "_view_count": null,
            "flex_flow": null,
            "width": null,
            "min_width": null,
            "border": null,
            "align_items": null,
            "bottom": null,
            "_model_module": "@jupyter-widgets/base",
            "top": null,
            "grid_column": null,
            "overflow_y": null,
            "overflow_x": null,
            "grid_auto_flow": null,
            "grid_area": null,
            "grid_template_columns": null,
            "flex": null,
            "_model_name": "LayoutModel",
            "justify_items": null,
            "grid_row": null,
            "max_height": null,
            "align_content": null,
            "visibility": null,
            "align_self": null,
            "height": null,
            "min_height": null,
            "padding": null,
            "grid_auto_rows": null,
            "grid_gap": null,
            "max_width": null,
            "order": null,
            "_view_module_version": "1.2.0",
            "grid_template_areas": null,
            "object_position": null,
            "object_fit": null,
            "grid_auto_columns": null,
            "margin": null,
            "display": null,
            "left": null
          }
        }
      }
    }
  },
  "cells": [
    {
      "cell_type": "markdown",
      "metadata": {
        "id": "KYJkacG_8WhQ"
      },
      "source": [
        "<h1><center>1D Boundary Conditions</center></h1>"
      ]
    },
    {
      "cell_type": "markdown",
      "metadata": {
        "id": "R8ZFEg8o9FBT"
      },
      "source": [
        "Note: GitHub shows a limited view of this notebook; view the full notebook externally with nbviewer.\n",
        "\n",
        "**Boundary conditions** are additional constraints that a given solution to a PDE must satisfy in order to model some real physical problem. In the case of the 1D wave equation, boundary conditions can be imposed to describe **reflections** of waves at a string's attachment point. The two main types of boundary conditions applied to the 1D wave equation on a finite interval at the point $x=a$ are\n",
        "\n",
        "1.   **Dirichlet Conditions**:\n",
        "\n",
        "$$u(a,t)=f(t)$$\n",
        "\n",
        "2.   **Neumann Conditions**:\n",
        "\n",
        "$$\\frac{\\partial u}{\\partial x}(a,t)=f(t)$$\n",
        "\n",
        "where $f$ is a real-valued function. Generalizations of such boundary conditions are known as **Robin conditions**:\n",
        "\n",
        "$$\\alpha \\frac{\\partial u}{\\partial x}(a,t)+\\beta u(a,t)=f(t)$$\n",
        "\n",
        "where $\\alpha$ and $\\beta$ are real numbers. It is clear from this form that Dirichlet conditions are just Robin conditions with $\\alpha =0$ and that Neumann conditions are just Robin conditions with $\\beta =0$.\n",
        "\n",
        "The physical significance of each type of boundary is best described by how the string is attached at its endpoint. If a string's endpoint is clamped at a specific height (which can be a function of time), then the value of the string's height at that point must have a Dirichlet boundary condition. If instead the string's endpoint is free to move with respect to the incoming waves on the string, then a Neumann condition will provide a more accurate description.\n",
        "\n",
        "If the function $f$ involved in the conditions above is zero for all $t$, then the boundary condition is said to be **homogeneous**. For this project, we will focus only on homogeneous Dirichlet conditions to describe wave motion on fixed-end membranes; an extension project for future work can be to descibe the boundaries of each membrane generally with inhomogeneous Robin conditions.\n",
        "\n",
        "Suppose that we apply the two following boundary conditions to a string of length $L$ with endpoints at $x=0$ and $x=L$:\n",
        "\n",
        "$$u(0,t)=0$$\n",
        "$$u(L,t)=0$$\n",
        "\n",
        "Such constraints are typical to descibe the propagation of a wave on a string with fixed endpoints at $u=0$, which is a typical problem of interest in elementary classical mechanics. Reflections at these string endpoints \"flip\" the shape of an incident wave and sends it off in the direction opposite the direction of incidence. This reflection type will remain similar for higher-dimensional waves incident upon boundaries described by homogeneous Diriclet conditions. To show what is meant by a \"flip,\" please run the following code to generate an animation:\n",
        "\n",
        "\n",
        "\n"
      ]
    },
    {
      "cell_type": "code",
      "metadata": {
        "id": "He2DBHvzGLk1"
      },
      "source": [
        "import numpy as np\n",
        "import matplotlib.animation as ani\n",
        "import matplotlib.pyplot as plt\n",
        "from ipywidgets import Video"
      ],
      "execution_count": 1,
      "outputs": []
    },
    {
      "cell_type": "code",
      "metadata": {
        "id": "P94yEeKz8Z27"
      },
      "source": [
        "#this code generates an animation of a wave pulse incident upon an \n",
        "#endpoint of a string that is described by a homogeneous Dirichlet condition\n",
        "\n",
        "%%capture\n",
        "x=np.linspace(0,5,500)\n",
        "y0=np.zeros((100,))\n",
        "y1=x[0:100]\n",
        "y2=1-x[0:100]\n",
        "y3=np.zeros((200,))\n",
        "y=np.concatenate((y0,y1,y2,y3))\n",
        "c=1\n",
        "\n",
        "fig,ax=plt.subplots(figsize=(6,2))\n",
        "fig.suptitle(\"Triangular Wave Pulse Reflection\",y=1)\n",
        "fig.tight_layout(pad=2)\n",
        "ln1,=plt.plot(x,y)\n",
        "\n",
        "def init():\n",
        "  ax.set_xlim(0,5)\n",
        "  ax.set_ylim(-1.1,1.1,auto=True)\n",
        "  ax.set_ylabel(\"Height\",size=12)\n",
        "  ax.set_xlabel(\"Position\",size=12)\n",
        "  return ln1,\n",
        "\n",
        "def update(frame):\n",
        "  if frame < 100:\n",
        "    y0=np.zeros((100-frame,))\n",
        "    y1=np.linspace(0,1,100)\n",
        "    y2=np.linspace(1,0,100)\n",
        "    y3=np.zeros((200+frame,))\n",
        "    y_data=np.concatenate((y0,y1,y2,y3))\n",
        "  elif frame < 150:\n",
        "    y0=np.linspace((frame-100)/100,2*(frame-100)/100,frame-100)-np.linspace((frame-100)/100,0,frame-100)\n",
        "    y1=np.linspace(2*(frame-100)/100,1,300-2*frame)\n",
        "    y2=np.linspace(1,0,100)\n",
        "    y3=np.zeros((200+frame,))\n",
        "    y_data=np.concatenate((y0,y1,y2,y3))\n",
        "  elif frame < 200:\n",
        "    y0=np.linspace(0.5+2*(frame-150)/100,1,200-frame)-np.linspace(0.5+2*(frame-150)/100,2*(frame-150)/100,200-frame)\n",
        "    y1=np.linspace(1,1-2*(frame-150)/100,frame-150)-np.linspace(2*(frame-150)/100,0,frame-150)\n",
        "    y2=np.linspace(1-2*(frame-150)/100,0,250-frame)\n",
        "    y3=np.zeros((200+frame,))\n",
        "    y_data=np.concatenate((y0,y1,y2,y3))\n",
        "  elif frame < 250:\n",
        "    y0=np.linspace(1-(frame-200)/100,1-2*(frame-200)/100,frame-200)-np.linspace(1-(frame-200)/100,1,frame-200)\n",
        "    y1=np.linspace(2*(1-(frame-200)/100),0,250-frame)-np.linspace(2,2*(frame-200)/100,250-frame)\n",
        "    y2=-np.linspace(2*(frame-200)/100,0,frame-150)\n",
        "    y3=np.zeros((600-frame,))\n",
        "    y_data=np.concatenate((y0,y1,y2,y3))\n",
        "  elif frame < 300:\n",
        "    y0=np.linspace(0.5-(frame-250)/100,0,300-frame)-np.linspace(0.5-(frame-250)/100,1-2*(frame-250)/100,300-frame)\n",
        "    y1=np.linspace(2*(frame-250)/100-1,-1,2*frame-500)\n",
        "    y2=np.linspace(-1,0,100)\n",
        "    y3=np.zeros((600-frame,))\n",
        "    y_data=np.concatenate((y0,y1,y2,y3))\n",
        "  else:\n",
        "    y0=np.zeros((frame-300,))\n",
        "    y1=np.linspace(0,-1,100)\n",
        "    y2=np.linspace(-1,0,100)\n",
        "    y3=np.zeros((600-frame,))\n",
        "    y_data=np.concatenate((y0,y1,y2,y3))\n",
        "  ln1.set_data(x, y_data)\n",
        "  return ln1,\n",
        "\n",
        "ani1 = ani.FuncAnimation(fig, update, frames=range(0,401),\n",
        "                    init_func=init, repeat=False, interval=20/c)\n",
        "\n",
        "ani1.save('wave_reflection.mp4');"
      ],
      "execution_count": 2,
      "outputs": []
    },
    {
      "cell_type": "code",
      "metadata": {
        "colab": {
          "base_uri": "https://localhost:8080/",
          "height": 169,
          "referenced_widgets": [
            "ce7e93f1f9bc4069bf89643ef4654b88",
            "4e43b5ac922d454eafdf0cddb88bf463"
          ]
        },
        "id": "931ISNzsiPPe",
        "outputId": "b25c5127-bd36-4eb7-e391-6c16aff4d045"
      },
      "source": [
        "#play the animation created in the above cell\n",
        "Video.from_file(\"wave_reflection.mp4\",loop=False)"
      ],
      "execution_count": 3,
      "outputs": [
        {
          "output_type": "display_data",
          "data": {
            "application/vnd.jupyter.widget-view+json": {
              "model_id": "ce7e93f1f9bc4069bf89643ef4654b88",
              "version_minor": 0,
              "version_major": 2
            },
            "text/plain": [
              "Video(value=b'\\x00\\x00\\x00 ftypisom\\x00\\x00\\x02\\x00isomiso2avc1mp41\\x00\\x00\\x00\\x08free\\x00\\x00x\\xc7mdat\\x00\\x…"
            ]
          },
          "metadata": {
            "tags": []
          }
        }
      ]
    },
    {
      "cell_type": "markdown",
      "metadata": {
        "id": "Tf3E6hYTitau"
      },
      "source": [
        "The animation here was generated empirically by knowledge of reflection about the homogeneous Dirichlet boundary; that is, that incident waves will interfere with themselves at these kinds of boundaries. A numerical method based on the wave equation that is known as the **finite difference method** will soon be developed to show that this kind of wave propagation scheme is appropriate for a triangular wave pulse reflection."
      ]
    }
  ]
}